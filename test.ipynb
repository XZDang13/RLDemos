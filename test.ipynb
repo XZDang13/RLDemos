{
 "cells": [
  {
   "cell_type": "code",
   "execution_count": 1,
   "id": "bd95ac0b",
   "metadata": {},
   "outputs": [],
   "source": [
    "import gymnasium"
   ]
  },
  {
   "cell_type": "code",
   "execution_count": 2,
   "id": "9afee307",
   "metadata": {},
   "outputs": [],
   "source": [
    "def setup_env(env_name:str, mode:str=None) -> gymnasium.wrappers.RecordEpisodeStatistics:\n",
    "    env = gymnasium.make(env_name, render_mode=mode)\n",
    "    env = gymnasium.wrappers.RecordEpisodeStatistics(env)\n",
    "\n",
    "    return env"
   ]
  },
  {
   "cell_type": "code",
   "execution_count": 3,
   "id": "7c008102",
   "metadata": {},
   "outputs": [],
   "source": [
    "env_name = \"LunarLander-v3\"\n",
    "env_num = 20"
   ]
  },
  {
   "cell_type": "code",
   "execution_count": 4,
   "id": "7718f04e",
   "metadata": {},
   "outputs": [],
   "source": [
    "envs = gymnasium.vector.SyncVectorEnv([lambda: setup_env(env_name) for _ in range(env_num)])"
   ]
  },
  {
   "cell_type": "code",
   "execution_count": 10,
   "id": "1ccf783c",
   "metadata": {},
   "outputs": [
    {
     "name": "stdout",
     "output_type": "stream",
     "text": [
      "[-93.38328269]\n",
      "[-114.29184593]\n",
      "[-139.31218963  -94.64007712]\n",
      "[-251.05578843]\n",
      "[-317.00113849]\n",
      "[-98.42668435]\n",
      "[-295.78455432]\n",
      "[-118.23253775]\n",
      "[-330.50578098]\n",
      "[-405.16346915]\n",
      "[-261.63364256]\n",
      "[-430.94607459]\n",
      "[0.60243837]\n",
      "[-178.55955689]\n",
      "[-181.59642691]\n",
      "[-148.24998859]\n",
      "[-191.20115943]\n",
      "[-109.00732092]\n",
      "[-270.13433137]\n",
      "[-90.965163]\n",
      "[-63.70479585 -64.94454073]\n",
      "[-99.52729546 -88.64430782]\n",
      "[-107.17494181]\n",
      "[-117.64133438]\n",
      "[-142.85053666]\n",
      "[-258.60310503]\n",
      "[-232.91725421  -72.91530303]\n",
      "[-123.53118282]\n",
      "[-174.04465823]\n",
      "[-241.53014254  -97.9279809 ]\n",
      "[-216.2711854]\n",
      "[-249.5501805]\n",
      "[-138.53224215]\n",
      "[-311.0241259]\n",
      "[ -98.21825703 -131.01635099]\n",
      "[-120.66257167]\n",
      "[-140.14712404]\n",
      "[-462.94380627]\n",
      "[-153.95753419]\n",
      "[-124.37517244]\n",
      "[-18.88104575]\n",
      "[-420.61097838 -136.14779034 -388.18249153]\n",
      "[-104.49201389]\n",
      "[-139.7636763]\n",
      "[-109.19332588 -144.51725398]\n",
      "[-151.56451751]\n",
      "[-197.84583454]\n",
      "[-166.05794603]\n",
      "[-86.66097595]\n",
      "[-127.48617368]\n",
      "[-297.45740967]\n",
      "[-374.65001938]\n",
      "[-100.92070089]\n",
      "[-78.49038879]\n",
      "[-159.15044112]\n",
      "[-218.16631446]\n",
      "[-98.31278346]\n",
      "[-133.49615761]\n",
      "[-504.5604753]\n",
      "[-160.64082186]\n",
      "[-103.846136]\n",
      "[ -67.59574642 -103.02352851]\n",
      "[-145.06657715]\n",
      "[-338.61992241]\n",
      "[-84.93256719]\n",
      "[-414.03032109]\n",
      "[-143.66304283 -263.82862922]\n",
      "[-142.40846084]\n",
      "[-69.34066615]\n",
      "[-345.00848253]\n",
      "[-117.37765799 -224.5786841 ]\n",
      "[-89.81567538]\n",
      "[-501.35103651]\n",
      "[-378.31141072]\n",
      "[-290.05500337 -115.78073121]\n",
      "[-70.77908356]\n",
      "[-242.23146437]\n",
      "[-169.59782029]\n",
      "[-234.70445611]\n",
      "[-103.09746487]\n",
      "[-179.72595795]\n",
      "[-167.11317228]\n",
      "[-44.01496639]\n"
     ]
    }
   ],
   "source": [
    "obs, _ = envs.reset()\n",
    "for _ in range(500):\n",
    "    action = envs.action_space.sample()\n",
    "    obs, reward, terminated, truncated, info = envs.step(action)\n",
    "    \n",
    "    if \"episode\" in info:\n",
    "        finished = info['episode']['_r']\n",
    "        \n",
    "        print(info['episode']['r'][finished])\n",
    "        "
   ]
  },
  {
   "cell_type": "code",
   "execution_count": null,
   "id": "3f81a4b8",
   "metadata": {},
   "outputs": [],
   "source": []
  }
 ],
 "metadata": {
  "kernelspec": {
   "display_name": "metaworld",
   "language": "python",
   "name": "python3"
  },
  "language_info": {
   "codemirror_mode": {
    "name": "ipython",
    "version": 3
   },
   "file_extension": ".py",
   "mimetype": "text/x-python",
   "name": "python",
   "nbconvert_exporter": "python",
   "pygments_lexer": "ipython3",
   "version": "3.11.11"
  }
 },
 "nbformat": 4,
 "nbformat_minor": 5
}
